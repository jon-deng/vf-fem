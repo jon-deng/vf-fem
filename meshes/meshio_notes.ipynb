{
 "cells": [
  {
   "cell_type": "markdown",
   "metadata": {},
   "source": [
    "# `meshio` Notes"
   ]
  },
  {
   "cell_type": "code",
   "execution_count": null,
   "metadata": {},
   "outputs": [],
   "source": [
    "import meshio as mio"
   ]
  },
  {
   "cell_type": "code",
   "execution_count": null,
   "metadata": {},
   "outputs": [],
   "source": [
    "mesh2: mio.Mesh = mio.gmsh.read('square_msh2.msh')\n",
    "mesh4: mio.Mesh = mio.gmsh.read('square_msh4.msh')"
   ]
  },
  {
   "cell_type": "code",
   "execution_count": null,
   "metadata": {},
   "outputs": [],
   "source": [
    "# `mesh.cells` and `mesh.cell_data` contain paired information on the mesh\n",
    "\n",
    "# `mesh.cells` is a list of `CellBlock`s where each `CellBlock` is an array of geometric entities\n",
    "# The array of geometric entities represents the topology/connectivity through point indices\n",
    "#\n",
    "# To illustrate:\n",
    "# a `CellBlock` of `cell_type` 'vertex' contains a list of point indices\n",
    "# a `CellBlock` of `cell_type` 'line' contains a list of point pairs\n",
    "# a `CellBlock` of `cell_type` 'tetra' contains a list of three points indexes\n",
    "\n",
    "# `mesh.cell_data` contains values for\n",
    "# for an array of geometric entities of given dimension\n",
    "\n",
    "# There is one `cell_data` entry for each `cell_block` entry!?\n",
    "\n",
    "for cell_block, cell_data in zip(mesh2.cells, mesh2.cell_data['gmsh:physical']):\n",
    "    print(cell_block)\n",
    "    print(cell_block.data.shape)\n",
    "    print(cell_data)\n",
    "    assert cell_block.data.shape[0] == cell_data.shape[0]\n",
    "    print('\\n')\n",
    "\n",
    "# `mesh.field` contains \"tags\" from gmsh\n",
    "print(mesh2.field_data)"
   ]
  },
  {
   "cell_type": "code",
   "execution_count": null,
   "metadata": {},
   "outputs": [],
   "source": []
  },
  {
   "cell_type": "code",
   "execution_count": null,
   "metadata": {},
   "outputs": [],
   "source": [
    "print(mesh2.cell_data)"
   ]
  },
  {
   "cell_type": "code",
   "execution_count": null,
   "metadata": {},
   "outputs": [],
   "source": [
    "print(mesh4.cell_data)"
   ]
  },
  {
   "cell_type": "code",
   "execution_count": null,
   "metadata": {},
   "outputs": [],
   "source": [
    "mesh.field_data"
   ]
  },
  {
   "cell_type": "code",
   "execution_count": null,
   "metadata": {},
   "outputs": [],
   "source": []
  }
 ],
 "metadata": {
  "kernelspec": {
   "display_name": "numerics",
   "language": "python",
   "name": "python3"
  },
  "language_info": {
   "codemirror_mode": {
    "name": "ipython",
    "version": 3
   },
   "file_extension": ".py",
   "mimetype": "text/x-python",
   "name": "python",
   "nbconvert_exporter": "python",
   "pygments_lexer": "ipython3",
   "version": "3.12.2"
  }
 },
 "nbformat": 4,
 "nbformat_minor": 2
}
